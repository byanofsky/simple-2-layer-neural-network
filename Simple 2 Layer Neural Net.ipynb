{
 "cells": [
  {
   "cell_type": "code",
   "execution_count": 1,
   "metadata": {
    "collapsed": true
   },
   "outputs": [],
   "source": [
    "import numpy as np"
   ]
  },
  {
   "cell_type": "code",
   "execution_count": 2,
   "metadata": {
    "collapsed": true
   },
   "outputs": [],
   "source": [
    "# Sigmoid function\n",
    "def sigmoid(x, deriv=False):\n",
    "    if deriv:\n",
    "        return x * (1-x)\n",
    "    return 1 / (1+np.exp(-x))"
   ]
  },
  {
   "cell_type": "code",
   "execution_count": 3,
   "metadata": {
    "collapsed": false
   },
   "outputs": [
    {
     "name": "stdout",
     "output_type": "stream",
     "text": [
      "Iteration:0\n",
      "L1: [[ 0.2689864   0.36375058  0.23762817  0.3262757 ]]\n",
      "Error: 0.309945849909\n",
      "\n",
      "Iteration:2000\n",
      "L1: [[ 0.02210122  0.01793507  0.985409    0.98200541]]\n",
      "Error: 0.000336708224729\n",
      "\n",
      "Iteration:4000\n",
      "L1: [[ 0.01544409  0.0125494   0.98978021  0.98741602]]\n",
      "Error: 0.000164702002695\n",
      "\n",
      "Iteration:6000\n",
      "L1: [[ 0.01254323  0.01019961  0.99168995  0.98977602]]\n",
      "Error: 0.000108737823564\n",
      "\n",
      "Iteration:8000\n",
      "L1: [[ 0.01082824  0.00880917  0.99282079  0.99117199]]\n",
      "Error: 8.10817681677e-05\n",
      "\n",
      "Output After Training:\n",
      "[[ 0.00966449]\n",
      " [ 0.00786506]\n",
      " [ 0.99358898]\n",
      " [ 0.99211957]]\n"
     ]
    }
   ],
   "source": [
    "# Input dataset\n",
    "X = np.array([[0,0,1],\n",
    "              [0,1,1],\n",
    "              [1,0,1],\n",
    "              [1,1,1]])\n",
    "\n",
    "# Output dataset\n",
    "y = np.array([[0], \n",
    "              [0],\n",
    "              [1],\n",
    "              [1]])\n",
    "\n",
    "# Seed random numbers\n",
    "np.random.seed(1)\n",
    "\n",
    "# Initialize weights randomly with mean 0\n",
    "W0 = 2 * np.random.random((3, 1)) - 1\n",
    "\n",
    "# Train the network\n",
    "for i in range(10000):\n",
    "    # Forward propagation\n",
    "    l0 = X\n",
    "    l1 = sigmoid(np.dot(l0, W0))\n",
    "\n",
    "    # Error\n",
    "    l1_error = y - l1\n",
    "\n",
    "    # Backpropagation\n",
    "    l1_delta = l1_error * sigmoid(l1, True)\n",
    "\n",
    "    # Update weights\n",
    "    W0 += np.dot(l0.T, l1_delta)\n",
    "    \n",
    "    if i % 2000 == 0:\n",
    "        print(\"Iteration:%s\\nL1: %s\\nError: %s\\n\" % (i, l1.T, (l1_error**2).mean()))\n",
    "    \n",
    "print(\"Output After Training:\")\n",
    "print(l1)"
   ]
  },
  {
   "cell_type": "code",
   "execution_count": null,
   "metadata": {
    "collapsed": true
   },
   "outputs": [],
   "source": []
  }
 ],
 "metadata": {
  "kernelspec": {
   "display_name": "Python 3",
   "language": "python",
   "name": "python3"
  },
  "language_info": {
   "codemirror_mode": {
    "name": "ipython",
    "version": 3
   },
   "file_extension": ".py",
   "mimetype": "text/x-python",
   "name": "python",
   "nbconvert_exporter": "python",
   "pygments_lexer": "ipython3",
   "version": "3.6.0"
  }
 },
 "nbformat": 4,
 "nbformat_minor": 2
}
