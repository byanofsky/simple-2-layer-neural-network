{
 "cells": [
  {
   "cell_type": "code",
   "execution_count": 1,
   "metadata": {
    "collapsed": true
   },
   "outputs": [],
   "source": [
    "import numpy as np"
   ]
  },
  {
   "cell_type": "code",
   "execution_count": 2,
   "metadata": {
    "collapsed": true
   },
   "outputs": [],
   "source": [
    "# Sigmoid function\n",
    "def sigmoid(x, deriv=False):\n",
    "    if deriv:\n",
    "        return x * (1-x)\n",
    "    return 1 / (1+np.exp(-x))"
   ]
  },
  {
   "cell_type": "code",
   "execution_count": 3,
   "metadata": {
    "collapsed": true
   },
   "outputs": [],
   "source": [
    "# Input dataset\n",
    "X = np.array([ [0,0,1],\n",
    "               [0,1,1],\n",
    "               [1,0,1],\n",
    "               [1,1,1] ])\n",
    "\n",
    "# Output dataset\n",
    "y = np.array([[0], \n",
    "              [0],\n",
    "              [1],\n",
    "              [1]])\n",
    "\n",
    "# Seed random numbers\n",
    "np.random.seed(1)\n",
    "\n",
    "# Initialize weights randomly with mean 0\n",
    "W0 = 2 * np.random.random((3, 1)) - 1"
   ]
  },
  {
   "cell_type": "code",
   "execution_count": 4,
   "metadata": {
    "collapsed": false
   },
   "outputs": [
    {
     "name": "stdout",
     "output_type": "stream",
     "text": [
      "Iteration:0\n",
      "L1: [[ 0.2689864   0.36375058  0.23762817  0.3262757 ]]\n",
      "Error: [[-0.2689864  -0.36375058  0.76237183  0.6737243 ]]\n",
      "\n",
      "Output After Training:\n",
      "[[ 0.11035029]\n",
      " [ 0.09193919]\n",
      " [ 0.92564882]\n",
      " [ 0.91041229]]\n",
      "Predictions:\n",
      "[[ 0.]\n",
      " [ 0.]\n",
      " [ 1.]\n",
      " [ 1.]]\n"
     ]
    }
   ],
   "source": [
    "# Train the network\n",
    "for i in range(100):\n",
    "    # Forward propagation\n",
    "    l0 = X\n",
    "    l1 = sigmoid(np.dot(l0, W0))\n",
    "\n",
    "    # Error\n",
    "    l1_error = y - l1\n",
    "\n",
    "    # Backpropagation\n",
    "    l1_delta = l1_error * sigmoid(l1, True)\n",
    "\n",
    "    # Update weights\n",
    "    W0 += np.dot(l0.T, l1_delta)\n",
    "    \n",
    "    if i % 1000 == 0:\n",
    "        print(\"Iteration:%s\\nL1: %s\\nError: %s\\n\" % (i, l1.T, l1_error.T))\n",
    "    \n",
    "print(\"Output After Training:\")\n",
    "print(l1)\n",
    "print(\"Predictions:\")\n",
    "print(l1.round())"
   ]
  },
  {
   "cell_type": "code",
   "execution_count": null,
   "metadata": {
    "collapsed": true
   },
   "outputs": [],
   "source": []
  }
 ],
 "metadata": {
  "kernelspec": {
   "display_name": "Python 3",
   "language": "python",
   "name": "python3"
  },
  "language_info": {
   "codemirror_mode": {
    "name": "ipython",
    "version": 3
   },
   "file_extension": ".py",
   "mimetype": "text/x-python",
   "name": "python",
   "nbconvert_exporter": "python",
   "pygments_lexer": "ipython3",
   "version": "3.6.0"
  }
 },
 "nbformat": 4,
 "nbformat_minor": 2
}
